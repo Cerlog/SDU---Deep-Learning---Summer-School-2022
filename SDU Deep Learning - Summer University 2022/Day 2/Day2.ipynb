{
 "cells": [
  {
   "cell_type": "code",
   "execution_count": 72,
   "outputs": [
    {
     "data": {
      "text/plain": "<Figure size 432x288 with 2 Axes>",
      "image/png": "[encoded data removed]"
     },
     "metadata": {
      "needs_background": "light"
     },
     "output_type": "display_data"
    },
    {
     "name": "stdout",
     "output_type": "stream",
     "text": [
      "Epoch 1/30\n",
      "938/938 [==============================] - 5s 5ms/step - loss: 0.5516 - accuracy: 0.8339 - val_loss: 0.2837 - val_accuracy: 0.9152\n",
      "Epoch 2/30\n",
      "938/938 [==============================] - 4s 4ms/step - loss: 0.2551 - accuracy: 0.9249 - val_loss: 0.2116 - val_accuracy: 0.9388\n",
      "Epoch 3/30\n",
      "938/938 [==============================] - 4s 4ms/step - loss: 0.2071 - accuracy: 0.9399 - val_loss: 0.1894 - val_accuracy: 0.9434\n",
      "Epoch 4/30\n",
      "938/938 [==============================] - 4s 5ms/step - loss: 0.1800 - accuracy: 0.9477 - val_loss: 0.1653 - val_accuracy: 0.9502\n",
      "Epoch 5/30\n",
      "938/938 [==============================] - 5s 5ms/step - loss: 0.1617 - accuracy: 0.9525 - val_loss: 0.1413 - val_accuracy: 0.9590\n",
      "Epoch 6/30\n",
      "938/938 [==============================] - 4s 5ms/step - loss: 0.1476 - accuracy: 0.9556 - val_loss: 0.1226 - val_accuracy: 0.9639\n",
      "Epoch 7/30\n",
      "938/938 [==============================] - 4s 4ms/step - loss: 0.1368 - accuracy: 0.9592 - val_loss: 0.1285 - val_accuracy: 0.9615\n",
      "Epoch 8/30\n",
      "938/938 [==============================] - 3s 4ms/step - loss: 0.1277 - accuracy: 0.9617 - val_loss: 0.1170 - val_accuracy: 0.9641\n",
      "Epoch 9/30\n",
      "938/938 [==============================] - 3s 3ms/step - loss: 0.1202 - accuracy: 0.9631 - val_loss: 0.1070 - val_accuracy: 0.9671\n",
      "Epoch 10/30\n",
      "938/938 [==============================] - 3s 3ms/step - loss: 0.1140 - accuracy: 0.9653 - val_loss: 0.1069 - val_accuracy: 0.9676\n",
      "Epoch 11/30\n",
      "938/938 [==============================] - 3s 4ms/step - loss: 0.1090 - accuracy: 0.9672 - val_loss: 0.0996 - val_accuracy: 0.9703\n",
      "Epoch 12/30\n",
      "938/938 [==============================] - 3s 3ms/step - loss: 0.1029 - accuracy: 0.9689 - val_loss: 0.0895 - val_accuracy: 0.9724\n",
      "Epoch 13/30\n",
      "938/938 [==============================] - 3s 3ms/step - loss: 0.0986 - accuracy: 0.9701 - val_loss: 0.0838 - val_accuracy: 0.9745\n",
      "Epoch 14/30\n",
      "938/938 [==============================] - 3s 3ms/step - loss: 0.0942 - accuracy: 0.9708 - val_loss: 0.0808 - val_accuracy: 0.9758\n",
      "Epoch 15/30\n",
      "938/938 [==============================] - 3s 3ms/step - loss: 0.0923 - accuracy: 0.9716 - val_loss: 0.0779 - val_accuracy: 0.9767\n",
      "Epoch 16/30\n",
      "938/938 [==============================] - 3s 3ms/step - loss: 0.0874 - accuracy: 0.9732 - val_loss: 0.0862 - val_accuracy: 0.9736\n",
      "Epoch 17/30\n",
      "938/938 [==============================] - 3s 3ms/step - loss: 0.0855 - accuracy: 0.9734 - val_loss: 0.0746 - val_accuracy: 0.9769\n",
      "Epoch 18/30\n",
      "938/938 [==============================] - 3s 3ms/step - loss: 0.0830 - accuracy: 0.9739 - val_loss: 0.0719 - val_accuracy: 0.9780\n",
      "Epoch 19/30\n",
      "938/938 [==============================] - 3s 3ms/step - loss: 0.0783 - accuracy: 0.9763 - val_loss: 0.0654 - val_accuracy: 0.9802\n",
      "Epoch 20/30\n",
      "938/938 [==============================] - 3s 3ms/step - loss: 0.0770 - accuracy: 0.9764 - val_loss: 0.0627 - val_accuracy: 0.9808\n",
      "Epoch 21/30\n",
      "938/938 [==============================] - 3s 3ms/step - loss: 0.0739 - accuracy: 0.9768 - val_loss: 0.0678 - val_accuracy: 0.9792\n",
      "Epoch 22/30\n",
      "938/938 [==============================] - 3s 3ms/step - loss: 0.0731 - accuracy: 0.9770 - val_loss: 0.0618 - val_accuracy: 0.9814\n",
      "Epoch 23/30\n",
      "938/938 [==============================] - 3s 4ms/step - loss: 0.0692 - accuracy: 0.9783 - val_loss: 0.0567 - val_accuracy: 0.9829\n",
      "Epoch 24/30\n",
      "938/938 [==============================] - 3s 3ms/step - loss: 0.0677 - accuracy: 0.9788 - val_loss: 0.0578 - val_accuracy: 0.9818\n",
      "Epoch 25/30\n",
      "938/938 [==============================] - 3s 4ms/step - loss: 0.0653 - accuracy: 0.9801 - val_loss: 0.0547 - val_accuracy: 0.9837\n",
      "Epoch 26/30\n",
      "938/938 [==============================] - 3s 3ms/step - loss: 0.0639 - accuracy: 0.9798 - val_loss: 0.0552 - val_accuracy: 0.9830\n",
      "Epoch 27/30\n",
      "938/938 [==============================] - 3s 4ms/step - loss: 0.0622 - accuracy: 0.9803 - val_loss: 0.0602 - val_accuracy: 0.9811\n",
      "Epoch 28/30\n",
      "938/938 [==============================] - 3s 3ms/step - loss: 0.0614 - accuracy: 0.9806 - val_loss: 0.0558 - val_accuracy: 0.9816\n",
      "Epoch 29/30\n",
      "938/938 [==============================] - 3s 3ms/step - loss: 0.0611 - accuracy: 0.9811 - val_loss: 0.0493 - val_accuracy: 0.9849\n",
      "Epoch 30/30\n",
      "938/938 [==============================] - 3s 3ms/step - loss: 0.0568 - accuracy: 0.9822 - val_loss: 0.0587 - val_accuracy: 0.9807\n"
     ]
    },
    {
     "data": {
      "text/plain": "<Figure size 432x288 with 1 Axes>",
      "image/png": "[encoded data removed]"
     },
     "metadata": {
      "needs_background": "light"
     },
     "output_type": "display_data"
    }
   ],
   "source": [
    "from tensorflow.keras.datasets import mnist\n",
    "from tensorflow.keras.utils import to_categorical\n",
    "from tensorflow.keras import layers\n",
    "import seaborn as sns\n",
    "import matplotlib.pyplot as plt\n",
    "import tensorflow as tf\n",
    "from tensorflow.keras import optimizers\n",
    "\n",
    "# Loads the data\n",
    "(train_data, train_labels), (test_data, test_labels) = mnist.load_data()\n",
    "\n",
    "# Plots a single digit from the data\n",
    "\n",
    "sns.heatmap(train_data[1, :, :])\n",
    "\n",
    "plt.show()\n",
    "\n",
    "train_data = train_data.reshape((60000, 28*28))/255\n",
    "test_data = test_data.reshape((10000, 28*28))\n",
    "num_classes = 10\n",
    "train_labels = to_categorical(train_labels, num_classes)\n",
    "test_labels = to_categorical(test_labels, num_classes)\n",
    "\n",
    "\n",
    "\n",
    "model = tf.keras.Sequential()\n",
    "model.add(layers.Dense(20, activation='relu', input_shape=(784,), use_bias=True, bias_regularizer='L2'))\n",
    "model.add(layers.Dense(20, activation='relu',use_bias=True, bias_regularizer='L2'))\n",
    "model.add(layers.Dense(20, activation='relu',use_bias=True, bias_regularizer='L2'))\n",
    "model.add(layers.Dense(10, activation='softmax'))\n",
    "\n",
    "\n",
    "model.compile(optimizer='adam', loss='categorical_crossentropy', metrics=['accuracy'])\n",
    "\n",
    "\n",
    "history = model.fit(train_data, train_labels, epochs = 30, batch_size = 64, validation_data=(train_data, train_labels))\n",
    "\n",
    "history_dict = history.history\n",
    "history_dict.keys()\n",
    "\n",
    "history_dict = history.history\n",
    "loss_values = history_dict['loss']\n",
    "val_loss_values = history_dict['val_loss']\n",
    "\n",
    "epochs = range(1, len(loss_values) + 1)\n",
    "\n",
    "#’bo’ is for blue dot, ‘b’ is for solid blue line\n",
    "plt.plot(epochs, loss_values, 'bo', label='Training loss')\n",
    "plt.plot(epochs, val_loss_values, 'b', label='Validation loss')\n",
    "plt.title('Training and validation loss')\n",
    "plt.xlabel('Epochs')\n",
    "plt.ylabel('Loss')\n",
    "plt.legend()\n",
    "\n",
    "plt.show()"
   ],
   "metadata": {
    "collapsed": false,
    "pycharm": {
     "name": "#%%\n"
    }
   }
  },
  {
   "cell_type": "code",
   "execution_count": 73,
   "outputs": [],
   "source": [
    "# loss: 0.0568 - accuracy: 0.9822 - val_loss: 0.0587 - val_accuracy: 0.9807"
   ],
   "metadata": {
    "collapsed": false,
    "pycharm": {
     "name": "#%%\n"
    }
   }
  },
  {
   "cell_type": "code",
   "execution_count": null,
   "outputs": [],
   "source": [],
   "metadata": {
    "collapsed": false,
    "pycharm": {
     "name": "#%%\n"
    }
   }
  }
 ],
 "metadata": {
  "kernelspec": {
   "display_name": "Python 3",
   "language": "python",
   "name": "python3"
  },
  "language_info": {
   "codemirror_mode": {
    "name": "ipython",
    "version": 2
   },
   "file_extension": ".py",
   "mimetype": "text/x-python",
   "name": "python",
   "nbconvert_exporter": "python",
   "pygments_lexer": "ipython2",
   "version": "2.7.6"
  }
 },
 "nbformat": 4,
 "nbformat_minor": 0
}