{
 "cells": [
  {
   "cell_type": "code",
   "execution_count": 72,
   "outputs": [
    {
     "data": {
      "text/plain": "<Figure size 432x288 with 2 Axes>",
      "image/png": "[encoded data removed]"
     },
     "metadata": {
      "needs_background": "light"
     },
     "output_type": "display_data"
    },
    {
     "name": "stdout",
     "output_type": "stream",
     "text": [
      "Epoch 1/30\n",
      "938/938 [==============================] - 5s 5ms/step - loss: 0.5516 - accuracy: 0.8339 - val_loss: 0.2837 - val_accuracy: 0.9152\n",
      "Epoch 2/30\n",
      "938/938 [==============================] - 4s 4ms/step - loss: 0.2551 - accuracy: 0.9249 - val_loss: 0.2116 - val_accuracy: 0.9388\n",
      "Epoch 3/30\n",
      "938/938 [==============================] - 4s 4ms/step - loss: 0.2071 - accuracy: 0.9399 - val_loss: 0.1894 - val_accuracy: 0.9434\n",
      "Epoch 4/30\n",
      "938/938 [==============================] - 4s 5ms/step - loss: 0.1800 - accuracy: 0.9477 - val_loss: 0.1653 - val_accuracy: 0.9502\n",
      "Epoch 5/30\n",
      "938/938 [==============================] - 5s 5ms/step - loss: 0.1617 - accuracy: 0.9525 - val_loss: 0.1413 - val_accuracy: 0.9590\n",
      "Epoch 6/30\n",
      "938/938 [==============================] - 4s 5ms/step - loss: 0.1476 - accuracy: 0.9556 - val_loss: 0.1226 - val_accuracy: 0.9639\n",
      "Epoch 7/30\n",
      "938/938 [==============================] - 4s 4ms/step - loss: 0.1368 - accuracy: 0.9592 - val_loss: 0.1285 - val_accuracy: 0.9615\n",
      "Epoch 8/30\n",
      "938/938 [==============================] - 3s 4ms/step - loss: 0.1277 - accuracy: 0.9617 - val_loss: 0.1170 - val_accuracy: 0.9641\n",
      "Epoch 9/30\n",
      "938/938 [==============================] - 3s 3ms/step - loss: 0.1202 - accuracy: 0.9631 - val_loss: 0.1070 - val_accuracy: 0.9671\n",
      "Epoch 10/30\n",
      "938/938 [==============================] - 3s 3ms/step - loss: 0.1140 - accuracy: 0.9653 - val_loss: 0.1069 - val_accuracy: 0.9676\n",
      "Epoch 11/30\n",
      "938/938 [==============================] - 3s 4ms/step - loss: 0.1090 - accuracy: 0.9672 - val_loss: 0.0996 - val_accuracy: 0.9703\n",
      "Epoch 12/30\n",
      "938/938 [==============================] - 3s 3ms/step - loss: 0.1029 - accuracy: 0.9689 - val_loss: 0.0895 - val_accuracy: 0.9724\n",
      "Epoch 13/30\n",
      "938/938 [==============================] - 3s 3ms/step - loss: 0.0986 - accuracy: 0.9701 - val_loss: 0.0838 - val_accuracy: 0.9745\n",
      "Epoch 14/30\n",
      "938/938 [==============================] - 3s 3ms/step - loss: 0.0942 - accuracy: 0.9708 - val_loss: 0.0808 - val_accuracy: 0.9758\n",
      "Epoch 15/30\n",
      "938/938 [==============================] - 3s 3ms/step - loss: 0.0923 - accuracy: 0.9716 - val_loss: 0.0779 - val_accuracy: 0.9767\n",
      "Epoch 16/30\n",
      "938/938 [==============================] - 3s 3ms/step - loss: 0.0874 - accuracy: 0.9732 - val_loss: 0.0862 - val_accuracy: 0.9736\n",
      "Epoch 17/30\n",
      "938/938 [==============================] - 3s 3ms/step - loss: 0.0855 - accuracy: 0.9734 - val_loss: 0.0746 - val_accuracy: 0.9769\n",
      "Epoch 18/30\n",
      "938/938 [==============================] - 3s 3ms/step - loss: 0.0830 - accuracy: 0.9739 - val_loss: 0.0719 - val_accuracy: 0.9780\n",
      "Epoch 19/30\n",
      "938/938 [==============================] - 3s 3ms/step - loss: 0.0783 - accuracy: 0.9763 - val_loss: 0.0654 - val_accuracy: 0.9802\n",
      "Epoch 20/30\n",
      "938/938 [==============================] - 3s 3ms/step - loss: 0.0770 - accuracy: 0.9764 - val_loss: 0.0627 - val_accuracy: 0.9808\n",
      "Epoch 21/30\n",
      "938/938 [==============================] - 3s 3ms/step - loss: 0.0739 - accuracy: 0.9768 - val_loss: 0.0678 - val_accuracy: 0.9792\n",
      "Epoch 22/30\n",
      "938/938 [==============================] - 3s 3ms/step - loss: 0.0731 - accuracy: 0.9770 - val_loss: 0.0618 - val_accuracy: 0.9814\n",
      "Epoch 23/30\n",
      "938/938 [==============================] - 3s 4ms/step - loss: 0.0692 - accuracy: 0.9783 - val_loss: 0.0567 - val_accuracy: 0.9829\n",
      "Epoch 24/30\n",
      "938/938 [==============================] - 3s 3ms/step - loss: 0.0677 - accuracy: 0.9788 - val_loss: 0.0578 - val_accuracy: 0.9818\n",
      "Epoch 25/30\n",
      "938/938 [==============================] - 3s 4ms/step - loss: 0.0653 - accuracy: 0.9801 - val_loss: 0.0547 - val_accuracy: 0.9837\n",
      "Epoch 26/30\n",
      "938/938 [==============================] - 3s 3ms/step - loss: 0.0639 - accuracy: 0.9798 - val_loss: 0.0552 - val_accuracy: 0.9830\n",
      "Epoch 27/30\n",
      "938/938 [==============================] - 3s 4ms/step - loss: 0.0622 - accuracy: 0.9803 - val_loss: 0.0602 - val_accuracy: 0.9811\n",
      "Epoch 28/30\n",
      "938/938 [==============================] - 3s 3ms/step - loss: 0.0614 - accuracy: 0.9806 - val_loss: 0.0558 - val_accuracy: 0.9816\n",
      "Epoch 29/30\n",
      "938/938 [==============================] - 3s 3ms/step - loss: 0.0611 - accuracy: 0.9811 - val_loss: 0.0493 - val_accuracy: 0.9849\n",
      "Epoch 30/30\n",
      "938/938 [==============================] - 3s 3ms/step - loss: 0.0568 - accuracy: 0.9822 - val_loss: 0.0587 - val_accuracy: 0.9807\n"
     ]
    },
    {
     "data": {
      "text/plain": "<Figure size 432x288 with 1 Axes>",
      "image/png": "[encoded data removed]"
     },
     "metadata": {
      "needs_background": "light"
     },
     "output_type": "display_data"
    }
   ],
   "source": [
    "from tensorflow.keras.datasets import mnist\n",
    "from tensorflow.keras.utils import to_categorical\n",
    "from tensorflow.keras import layers\n",
    "import seaborn as sns\n",
    "import matplotlib.pyplot as plt\n",
    "import tensorflow as tf\n",
    "from tensorflow.keras import optimizers\n",
    "\n",
    "# Loads the data\n",
    "(train_data, train_labels), (test_data, test_labels) = mnist.load_data()\n",
    "\n",
    "# Plots a single digit from the data\n",
    "\n",
    "sns.heatmap(train_data[1, :, :])\n",
    "\n",
    "plt.show()\n",
    "\n",
    "train_data = train_data.reshape((60000, 28*28))/255\n",
    "test_data = test_data.reshape((10000, 28*28))\n",
    "num_classes = 10\n",
    "train_labels = to_categorical(train_labels, num_classes)\n",
    "test_labels = to_categorical(test_labels, num_classes)\n",
    "\n",
    "\n",
    "\n",
    "model = tf.keras.Sequential()\n",
    "model.add(layers.Dense(20, activation='relu', input_shape=(784,), use_bias=True, bias_regularizer='L2'))\n",
    "model.add(layers.Dense(20, activation='relu',use_bias=True, bias_regularizer='L2'))\n",
    "model.add(layers.Dense(20, activation='relu',use_bias=True, bias_regularizer='L2'))\n",
    "model.add(layers.Dense(10, activation='softmax'))\n",
    "\n",
    "\n",
    "model.compile(optimizer='adam', loss='categorical_crossentropy', metrics=['accuracy'])\n",
    "\n",
    "\n",
    "history = model.fit(train_data, train_labels, epochs = 30, batch_size = 64, validation_data=(train_data, train_labels))\n",
    "\n",
    "history_dict = history.history\n",
    "history_dict.keys()\n",
    "\n",
    "history_dict = history.history\n",
    "loss_values = history_dict['loss']\n",
    "val_loss_values = history_dict['val_loss']\n",
    "\n",
    "epochs = range(1, len(loss_values) + 1)\n",
    "\n",
    "#’bo’ is for blue dot, ‘b’ is for solid blue line\n",
    "plt.plot(epochs, loss_values, 'bo', label='Training loss')\n",
    "plt.plot(epochs, val_loss_values, 'b', label='Validation loss')\n",
    "plt.title('Training and validation loss')\n",
    "plt.xlabel('Epochs')\n",
    "plt.ylabel('Loss')\n",
    "plt.legend()\n",
    "\n",
    "plt.show()"
   ],
   "metadata": {
    "collapsed": false,
    "pycharm": {
     "name": "#%%\n"
    }
   }
  },
  {
   "cell_type": "code",
   "execution_count": 73,
   "outputs": [],
   "source": [
    "# loss: 0.0568 - accuracy: 0.9822 - val_loss: 0.0587 - val_accuracy: 0.9807"
   ],
   "metadata": {
    "collapsed": false,
    "pycharm": {
     "name": "#%%\n"
    }
   }
  },
  {
   "cell_type": "code",
   "execution_count": 1,
   "outputs": [
    {
     "data": {
      "text/plain": "<Figure size 432x288 with 2 Axes>",
      "image/png": "[encoded data removed]"
     },
     "metadata": {
      "needs_background": "light"
     },
     "output_type": "display_data"
    },
    {
     "name": "stdout",
     "output_type": "stream",
     "text": [
      "Epoch 1/30\n",
      "1875/1875 [==============================] - 5s 2ms/step - loss: 0.4420 - accuracy: 0.8661 - val_loss: 0.2366 - val_accuracy: 0.9323\n",
      "Epoch 2/30\n",
      "1875/1875 [==============================] - 3s 2ms/step - loss: 0.2215 - accuracy: 0.9370 - val_loss: 0.1894 - val_accuracy: 0.9452\n",
      "Epoch 3/30\n",
      "1875/1875 [==============================] - 3s 2ms/step - loss: 0.1837 - accuracy: 0.9466 - val_loss: 0.1619 - val_accuracy: 0.9515\n",
      "Epoch 4/30\n",
      "1875/1875 [==============================] - 3s 2ms/step - loss: 0.1583 - accuracy: 0.9534 - val_loss: 0.1334 - val_accuracy: 0.9608\n",
      "Epoch 5/30\n",
      "1875/1875 [==============================] - 3s 2ms/step - loss: 0.1396 - accuracy: 0.9582 - val_loss: 0.1220 - val_accuracy: 0.9636\n",
      "Epoch 6/30\n",
      "1875/1875 [==============================] - 3s 2ms/step - loss: 0.1274 - accuracy: 0.9622 - val_loss: 0.1104 - val_accuracy: 0.9675\n",
      "Epoch 7/30\n",
      "1875/1875 [==============================] - 3s 2ms/step - loss: 0.1189 - accuracy: 0.9642 - val_loss: 0.1028 - val_accuracy: 0.9692\n",
      "Epoch 8/30\n",
      "1875/1875 [==============================] - 4s 2ms/step - loss: 0.1127 - accuracy: 0.9661 - val_loss: 0.1108 - val_accuracy: 0.9664\n",
      "Epoch 9/30\n",
      "1875/1875 [==============================] - 3s 2ms/step - loss: 0.1057 - accuracy: 0.9684 - val_loss: 0.0931 - val_accuracy: 0.9721\n",
      "Epoch 10/30\n",
      "1875/1875 [==============================] - 3s 2ms/step - loss: 0.1007 - accuracy: 0.9692 - val_loss: 0.0882 - val_accuracy: 0.9744\n",
      "Epoch 11/30\n",
      "1875/1875 [==============================] - 3s 2ms/step - loss: 0.0954 - accuracy: 0.9716 - val_loss: 0.0798 - val_accuracy: 0.9761\n",
      "Epoch 12/30\n",
      "1875/1875 [==============================] - 4s 2ms/step - loss: 0.0909 - accuracy: 0.9720 - val_loss: 0.0775 - val_accuracy: 0.9764\n",
      "Epoch 13/30\n",
      "1875/1875 [==============================] - 3s 2ms/step - loss: 0.0875 - accuracy: 0.9737 - val_loss: 0.0798 - val_accuracy: 0.9760\n",
      "Epoch 14/30\n",
      "1875/1875 [==============================] - 4s 2ms/step - loss: 0.0822 - accuracy: 0.9753 - val_loss: 0.0820 - val_accuracy: 0.9743\n",
      "Epoch 15/30\n",
      "1875/1875 [==============================] - 4s 2ms/step - loss: 0.0808 - accuracy: 0.9760 - val_loss: 0.0690 - val_accuracy: 0.9786\n",
      "Epoch 16/30\n",
      "1875/1875 [==============================] - 3s 2ms/step - loss: 0.0769 - accuracy: 0.9766 - val_loss: 0.0664 - val_accuracy: 0.9804\n",
      "Epoch 17/30\n",
      "1875/1875 [==============================] - 4s 2ms/step - loss: 0.0756 - accuracy: 0.9771 - val_loss: 0.0607 - val_accuracy: 0.9821\n",
      "Epoch 18/30\n",
      "1875/1875 [==============================] - 4s 2ms/step - loss: 0.0720 - accuracy: 0.9778 - val_loss: 0.0554 - val_accuracy: 0.9840\n",
      "Epoch 19/30\n",
      "1875/1875 [==============================] - 4s 2ms/step - loss: 0.0703 - accuracy: 0.9780 - val_loss: 0.0673 - val_accuracy: 0.9788\n",
      "Epoch 20/30\n",
      "1875/1875 [==============================] - 3s 2ms/step - loss: 0.0681 - accuracy: 0.9790 - val_loss: 0.0541 - val_accuracy: 0.9838\n",
      "Epoch 21/30\n",
      "1875/1875 [==============================] - 4s 2ms/step - loss: 0.0660 - accuracy: 0.9792 - val_loss: 0.0647 - val_accuracy: 0.9798\n",
      "Epoch 22/30\n",
      "1875/1875 [==============================] - 4s 2ms/step - loss: 0.0639 - accuracy: 0.9795 - val_loss: 0.0577 - val_accuracy: 0.9817\n",
      "Epoch 23/30\n",
      "1875/1875 [==============================] - 3s 2ms/step - loss: 0.0605 - accuracy: 0.9805 - val_loss: 0.0498 - val_accuracy: 0.9850\n",
      "Epoch 24/30\n",
      "1875/1875 [==============================] - 3s 2ms/step - loss: 0.0602 - accuracy: 0.9810 - val_loss: 0.0464 - val_accuracy: 0.9860\n",
      "Epoch 25/30\n",
      "1875/1875 [==============================] - 3s 2ms/step - loss: 0.0565 - accuracy: 0.9821 - val_loss: 0.0570 - val_accuracy: 0.9815\n",
      "Epoch 26/30\n",
      "1875/1875 [==============================] - 4s 2ms/step - loss: 0.0562 - accuracy: 0.9828 - val_loss: 0.0432 - val_accuracy: 0.9864\n",
      "Epoch 27/30\n",
      "1875/1875 [==============================] - 4s 2ms/step - loss: 0.0555 - accuracy: 0.9820 - val_loss: 0.0554 - val_accuracy: 0.9815\n",
      "Epoch 28/30\n",
      "1875/1875 [==============================] - 4s 2ms/step - loss: 0.0542 - accuracy: 0.9824 - val_loss: 0.0537 - val_accuracy: 0.9825\n",
      "Epoch 29/30\n",
      "1875/1875 [==============================] - 4s 2ms/step - loss: 0.0526 - accuracy: 0.9831 - val_loss: 0.0428 - val_accuracy: 0.9865\n",
      "Epoch 30/30\n",
      "1875/1875 [==============================] - 4s 2ms/step - loss: 0.0507 - accuracy: 0.9835 - val_loss: 0.0459 - val_accuracy: 0.9852\n"
     ]
    },
    {
     "data": {
      "text/plain": "<Figure size 432x288 with 1 Axes>",
      "image/png": "[encoded data removed]"
     },
     "metadata": {
      "needs_background": "light"
     },
     "output_type": "display_data"
    }
   ],
   "source": [
    "from tensorflow.keras.datasets import mnist\n",
    "from tensorflow.keras.utils import to_categorical\n",
    "from tensorflow.keras import layers\n",
    "import seaborn as sns\n",
    "import matplotlib.pyplot as plt\n",
    "import tensorflow as tf\n",
    "from tensorflow.keras import optimizers\n",
    "\n",
    "# Loads the data\n",
    "(train_data, train_labels), (test_data, test_labels) = mnist.load_data()\n",
    "\n",
    "# Plots a single digit from the data\n",
    "\n",
    "sns.heatmap(train_data[1, :, :])\n",
    "\n",
    "plt.show()\n",
    "\n",
    "train_data = train_data.reshape((60000, 28*28))/255\n",
    "test_data = test_data.reshape((10000, 28*28)) /255\n",
    "num_classes = 10\n",
    "train_labels = to_categorical(train_labels, num_classes)\n",
    "test_labels = to_categorical(test_labels, num_classes)\n",
    "\n",
    "tra\n",
    "\n",
    "\n",
    "model = tf.keras.Sequential()\n",
    "model.add(layers.Dense(20, activation='relu', input_shape=(784,), use_bias=True, bias_regularizer='L2'))\n",
    "model.add(layers.Dense(20, activation='relu',use_bias=True, bias_regularizer='L2'))\n",
    "model.add(layers.Dense(20, activation='relu',use_bias=True, bias_regularizer='L2'))\n",
    "model.add(layers.Dense(10, activation='softmax'))\n",
    "\n",
    "\n",
    "model.compile(optimizer='adam', loss='categorical_crossentropy', metrics=['accuracy'])\n",
    "\n",
    "\n",
    "history = model.fit(train_data, train_labels, epochs = 30, batch_size = 32, validation_data=(train_data, train_labels))\n",
    "\n",
    "history_dict = history.history\n",
    "history_dict.keys()\n",
    "\n",
    "history_dict = history.history\n",
    "loss_values = history_dict['loss']\n",
    "val_loss_values = history_dict['val_loss']\n",
    "\n",
    "epochs = range(1, len(loss_values) + 1)\n",
    "\n",
    "#’bo’ is for blue dot, ‘b’ is for solid blue line\n",
    "plt.plot(epochs, loss_values, 'bo', label='Training loss')\n",
    "plt.plot(epochs, val_loss_values, 'b', label='Validation loss')\n",
    "plt.title('Training and validation loss')\n",
    "plt.xlabel('Epochs')\n",
    "plt.ylabel('Loss')\n",
    "plt.legend()\n",
    "\n",
    "plt.show()"
   ],
   "metadata": {
    "collapsed": false,
    "pycharm": {
     "name": "#%%\n"
    }
   }
  },
  {
   "cell_type": "code",
   "execution_count": 3,
   "outputs": [
    {
     "data": {
      "text/plain": "array([[0., 0., 0., ..., 0., 0., 0.],\n       [0., 0., 0., ..., 0., 0., 0.],\n       [0., 0., 0., ..., 0., 0., 0.],\n       ...,\n       [0., 0., 0., ..., 0., 0., 0.],\n       [0., 0., 0., ..., 0., 0., 0.],\n       [0., 0., 0., ..., 0., 0., 0.]])"
     },
     "execution_count": 3,
     "metadata": {},
     "output_type": "execute_result"
    }
   ],
   "source": [
    "train_data"
   ],
   "metadata": {
    "collapsed": false,
    "pycharm": {
     "name": "#%%\n"
    }
   }
  },
  {
   "cell_type": "code",
   "execution_count": 2,
   "outputs": [
    {
     "data": {
      "text/plain": "<Figure size 432x288 with 2 Axes>",
      "image/png": "[encoded data removed]"
     },
     "metadata": {
      "needs_background": "light"
     },
     "output_type": "display_data"
    },
    {
     "name": "stdout",
     "output_type": "stream",
     "text": [
      "Epoch 1/40\n",
      "2400/2400 [==============================] - 5s 2ms/step - loss: 0.3976 - accuracy: 0.8816 - val_loss: 0.2125 - val_accuracy: 0.9391\n",
      "Epoch 2/40\n",
      "2400/2400 [==============================] - 4s 2ms/step - loss: 0.1968 - accuracy: 0.9429 - val_loss: 0.1568 - val_accuracy: 0.9551\n",
      "Epoch 3/40\n",
      "2400/2400 [==============================] - 4s 2ms/step - loss: 0.1622 - accuracy: 0.9524 - val_loss: 0.1467 - val_accuracy: 0.9564\n",
      "Epoch 4/40\n",
      "2400/2400 [==============================] - 5s 2ms/step - loss: 0.1426 - accuracy: 0.9570 - val_loss: 0.1202 - val_accuracy: 0.9647\n",
      "Epoch 5/40\n",
      "2400/2400 [==============================] - 5s 2ms/step - loss: 0.1287 - accuracy: 0.9616 - val_loss: 0.1124 - val_accuracy: 0.9670\n",
      "Epoch 6/40\n",
      "2400/2400 [==============================] - 5s 2ms/step - loss: 0.1183 - accuracy: 0.9644 - val_loss: 0.1033 - val_accuracy: 0.9692\n",
      "Epoch 7/40\n",
      "2400/2400 [==============================] - 4s 2ms/step - loss: 0.1093 - accuracy: 0.9668 - val_loss: 0.0935 - val_accuracy: 0.9723\n",
      "Epoch 8/40\n",
      "2400/2400 [==============================] - 4s 2ms/step - loss: 0.1030 - accuracy: 0.9681 - val_loss: 0.0850 - val_accuracy: 0.9742\n",
      "Epoch 9/40\n",
      "2400/2400 [==============================] - 4s 2ms/step - loss: 0.0973 - accuracy: 0.9703 - val_loss: 0.0841 - val_accuracy: 0.9743\n",
      "Epoch 10/40\n",
      "2400/2400 [==============================] - 4s 2ms/step - loss: 0.0916 - accuracy: 0.9719 - val_loss: 0.0773 - val_accuracy: 0.9763\n",
      "Epoch 11/40\n",
      "2400/2400 [==============================] - 4s 2ms/step - loss: 0.0864 - accuracy: 0.9733 - val_loss: 0.0733 - val_accuracy: 0.9774\n",
      "Epoch 12/40\n",
      "2400/2400 [==============================] - 4s 2ms/step - loss: 0.0831 - accuracy: 0.9749 - val_loss: 0.0706 - val_accuracy: 0.9784\n",
      "Epoch 13/40\n",
      "2400/2400 [==============================] - 4s 2ms/step - loss: 0.0807 - accuracy: 0.9750 - val_loss: 0.0697 - val_accuracy: 0.9786\n",
      "Epoch 14/40\n",
      "2400/2400 [==============================] - 4s 2ms/step - loss: 0.0757 - accuracy: 0.9764 - val_loss: 0.0634 - val_accuracy: 0.9808\n",
      "Epoch 15/40\n",
      "2400/2400 [==============================] - 4s 2ms/step - loss: 0.0726 - accuracy: 0.9774 - val_loss: 0.0725 - val_accuracy: 0.9776\n",
      "Epoch 16/40\n",
      "2400/2400 [==============================] - 4s 2ms/step - loss: 0.0712 - accuracy: 0.9784 - val_loss: 0.0561 - val_accuracy: 0.9828\n",
      "Epoch 17/40\n",
      "2400/2400 [==============================] - 4s 2ms/step - loss: 0.0680 - accuracy: 0.9786 - val_loss: 0.0576 - val_accuracy: 0.9824\n",
      "Epoch 18/40\n",
      "2400/2400 [==============================] - 5s 2ms/step - loss: 0.0675 - accuracy: 0.9786 - val_loss: 0.0671 - val_accuracy: 0.9790\n",
      "Epoch 19/40\n",
      "2400/2400 [==============================] - 5s 2ms/step - loss: 0.0630 - accuracy: 0.9806 - val_loss: 0.0697 - val_accuracy: 0.9778\n",
      "Epoch 20/40\n",
      "2400/2400 [==============================] - 5s 2ms/step - loss: 0.0635 - accuracy: 0.9812 - val_loss: 0.0506 - val_accuracy: 0.9845\n",
      "Epoch 21/40\n",
      "2400/2400 [==============================] - 5s 2ms/step - loss: 0.0607 - accuracy: 0.9810 - val_loss: 0.0534 - val_accuracy: 0.9830\n",
      "Epoch 22/40\n",
      "2400/2400 [==============================] - 5s 2ms/step - loss: 0.0598 - accuracy: 0.9803 - val_loss: 0.0502 - val_accuracy: 0.9847\n",
      "Epoch 23/40\n",
      "2400/2400 [==============================] - 5s 2ms/step - loss: 0.0571 - accuracy: 0.9816 - val_loss: 0.0537 - val_accuracy: 0.9829\n",
      "Epoch 24/40\n",
      "2400/2400 [==============================] - 5s 2ms/step - loss: 0.0553 - accuracy: 0.9824 - val_loss: 0.0519 - val_accuracy: 0.9839\n",
      "Epoch 25/40\n",
      "2400/2400 [==============================] - 6s 2ms/step - loss: 0.0557 - accuracy: 0.9823 - val_loss: 0.0455 - val_accuracy: 0.9858\n",
      "Epoch 26/40\n",
      "2400/2400 [==============================] - 5s 2ms/step - loss: 0.0545 - accuracy: 0.9827 - val_loss: 0.0435 - val_accuracy: 0.9868\n",
      "Epoch 27/40\n",
      "2400/2400 [==============================] - 6s 2ms/step - loss: 0.0520 - accuracy: 0.9836 - val_loss: 0.0391 - val_accuracy: 0.9881\n",
      "Epoch 28/40\n",
      "2400/2400 [==============================] - 5s 2ms/step - loss: 0.0512 - accuracy: 0.9833 - val_loss: 0.0408 - val_accuracy: 0.9870\n",
      "Epoch 29/40\n",
      "2400/2400 [==============================] - 6s 2ms/step - loss: 0.0508 - accuracy: 0.9834 - val_loss: 0.0420 - val_accuracy: 0.9863\n",
      "Epoch 30/40\n",
      "2400/2400 [==============================] - 5s 2ms/step - loss: 0.0489 - accuracy: 0.9844 - val_loss: 0.0370 - val_accuracy: 0.9885\n",
      "Epoch 31/40\n",
      "2400/2400 [==============================] - 5s 2ms/step - loss: 0.0487 - accuracy: 0.9847 - val_loss: 0.0457 - val_accuracy: 0.9853\n",
      "Epoch 32/40\n",
      "2400/2400 [==============================] - 4s 2ms/step - loss: 0.0467 - accuracy: 0.9845 - val_loss: 0.0390 - val_accuracy: 0.9876\n",
      "Epoch 33/40\n",
      "2400/2400 [==============================] - 4s 2ms/step - loss: 0.0456 - accuracy: 0.9852 - val_loss: 0.0442 - val_accuracy: 0.9846\n",
      "Epoch 34/40\n",
      "2400/2400 [==============================] - 4s 2ms/step - loss: 0.0455 - accuracy: 0.9855 - val_loss: 0.0340 - val_accuracy: 0.9891\n",
      "Epoch 35/40\n",
      "2400/2400 [==============================] - 4s 2ms/step - loss: 0.0436 - accuracy: 0.9858 - val_loss: 0.0385 - val_accuracy: 0.9873\n",
      "Epoch 36/40\n",
      "2400/2400 [==============================] - 4s 2ms/step - loss: 0.0429 - accuracy: 0.9867 - val_loss: 0.0327 - val_accuracy: 0.9903\n",
      "Epoch 37/40\n",
      "2400/2400 [==============================] - 4s 2ms/step - loss: 0.0411 - accuracy: 0.9864 - val_loss: 0.0316 - val_accuracy: 0.9903\n",
      "Epoch 38/40\n",
      "2400/2400 [==============================] - 5s 2ms/step - loss: 0.0414 - accuracy: 0.9865 - val_loss: 0.0290 - val_accuracy: 0.9912\n",
      "Epoch 39/40\n",
      "2400/2400 [==============================] - 5s 2ms/step - loss: 0.0422 - accuracy: 0.9864 - val_loss: 0.0427 - val_accuracy: 0.9862\n",
      "Epoch 40/40\n",
      "2400/2400 [==============================] - 4s 2ms/step - loss: 0.0386 - accuracy: 0.9874 - val_loss: 0.0268 - val_accuracy: 0.9916\n"
     ]
    },
    {
     "data": {
      "text/plain": "<Figure size 432x288 with 1 Axes>",
      "image/png": "[encoded data removed]"
     },
     "metadata": {
      "needs_background": "light"
     },
     "output_type": "display_data"
    }
   ],
   "source": [
    "from tensorflow.keras.datasets import mnist\n",
    "from tensorflow.keras.utils import to_categorical\n",
    "from tensorflow.keras import layers\n",
    "import seaborn as sns\n",
    "import matplotlib.pyplot as plt\n",
    "import tensorflow as tf\n",
    "from tensorflow.keras import optimizers\n",
    "\n",
    "# Loads the data\n",
    "(train_data, train_labels), (test_data, test_labels) = mnist.load_data()\n",
    "\n",
    "# Plots a single digit from the data\n",
    "\n",
    "sns.heatmap(train_data[1, :, :])\n",
    "\n",
    "plt.show()\n",
    "\n",
    "train_data = train_data.reshape((60000, 28*28))/255\n",
    "test_data = test_data.reshape((10000, 28*28))\n",
    "num_classes = 10\n",
    "train_labels = to_categorical(train_labels, num_classes)\n",
    "test_labels = to_categorical(test_labels, num_classes)\n",
    "\n",
    "\n",
    "\n",
    "model = tf.keras.Sequential()\n",
    "model.add(layers.Dense(20, activation='relu', input_shape=(784,), use_bias=True, bias_regularizer='L2'))\n",
    "model.add(layers.Dense(20, activation='relu',use_bias=True, bias_regularizer='L2'))\n",
    "model.add(layers.Dense(20, activation='relu',use_bias=True, bias_regularizer='L2'))\n",
    "model.add(layers.Dense(10, activation='softmax',use_bias=True, bias_regularizer='L2'))\n",
    "\n",
    "model.summary() # prints out the summary of the model\n",
    "\n",
    "\n",
    "model.compile(optimizer='adam', loss='categorical_crossentropy', metrics=['accuracy'])\n",
    "\n",
    "\n",
    "history = model.fit(train_data, train_labels, epochs = 40, batch_size = 25, validation_data=(train_data, train_labels))\n",
    "\n",
    "history_dict = history.history\n",
    "history_dict.keys()\n",
    "\n",
    "history_dict = history.history\n",
    "loss_values = history_dict['loss']\n",
    "val_loss_values = history_dict['val_loss']\n",
    "\n",
    "epochs = range(1, len(loss_values) + 1)\n",
    "\n",
    "#’bo’ is for blue dot, ‘b’ is for solid blue line\n",
    "plt.plot(epochs, loss_values, 'bo', label='Training loss')\n",
    "plt.plot(epochs, val_loss_values, 'b', label='Validation loss')\n",
    "plt.title('Training and validation loss')\n",
    "plt.xlabel('Epochs')\n",
    "plt.ylabel('Loss')\n",
    "plt.legend()\n",
    "\n",
    "plt.show()"
   ],
   "metadata": {
    "collapsed": false,
    "pycharm": {
     "name": "#%%\n"
    }
   }
  },
  {
   "cell_type": "code",
   "execution_count": null,
   "outputs": [],
   "source": [],
   "metadata": {
    "collapsed": false,
    "pycharm": {
     "name": "#%%\n"
    }
   }
  }
 ],
 "metadata": {
  "kernelspec": {
   "display_name": "Python 3",
   "language": "python",
   "name": "python3"
  },
  "language_info": {
   "codemirror_mode": {
    "name": "ipython",
    "version": 2
   },
   "file_extension": ".py",
   "mimetype": "text/x-python",
   "name": "python",
   "nbconvert_exporter": "python",
   "pygments_lexer": "ipython2",
   "version": "2.7.6"
  }
 },
 "nbformat": 4,
 "nbformat_minor": 0
}