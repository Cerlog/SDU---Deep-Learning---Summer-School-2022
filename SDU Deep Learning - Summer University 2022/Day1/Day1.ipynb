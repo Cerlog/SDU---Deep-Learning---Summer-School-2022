{
 "cells": [
  {
   "cell_type": "code",
   "execution_count": 6,
   "metadata": {
    "collapsed": true
   },
   "outputs": [],
   "source": [
    "import numpy as np\n",
    "import matplotlib.pyplot as plt\n",
    "import pandas as pd\n",
    "import tensorflow as tf\n"
   ]
  },
  {
   "cell_type": "code",
   "execution_count": null,
   "outputs": [],
   "source": [
    "#Matplotlib"
   ],
   "metadata": {
    "collapsed": false,
    "pycharm": {
     "name": "#%%\n"
    }
   }
  },
  {
   "cell_type": "markdown",
   "source": [
    "a. import Numpy in a python script\n"
   ],
   "metadata": {
    "collapsed": false,
    "pycharm": {
     "name": "#%% md\n"
    }
   }
  },
  {
   "cell_type": "code",
   "execution_count": 72,
   "outputs": [],
   "source": [
    "a = np.full((2,3) ,4)\n",
    "b = np.array([[1, 2, 3], [4, 5, 6]])\n",
    "c = np.eye(2,3)\n",
    "d = a + b +c"
   ],
   "metadata": {
    "collapsed": false,
    "pycharm": {
     "name": "#%%\n"
    }
   }
  },
  {
   "cell_type": "markdown",
   "source": [
    "b. Think about which values are in the NumPy array 'd', then verify if you were correct"
   ],
   "metadata": {
    "collapsed": false,
    "pycharm": {
     "name": "#%% md\n"
    }
   }
  },
  {
   "cell_type": "markdown",
   "source": [
    "\\begin{equation}\n",
    "  \\begin{bmatrix}\n",
    "    4 & 4 & 4 \\\\\n",
    "    4 & 4 & 4\n",
    "  \\end{bmatrix}\n",
    "  +\n",
    "  \\begin{bmatrix}\n",
    "    1 & 2 & 3\\\\\n",
    "    4 & 5 & 6\n",
    "  \\end{bmatrix}\n",
    "    +\n",
    "  \\begin{bmatrix}\n",
    "   1 & 0 & 0 \\\\\n",
    "   0 & 1 & 0\n",
    "  \\end{bmatrix}\n",
    "      =\n",
    "  \\begin{bmatrix}\n",
    "   6 & 6 & 7 \\\\\n",
    "   8 & 10 & 10\n",
    "  \\end{bmatrix}\n",
    "\\end{equation}"
   ],
   "metadata": {
    "collapsed": false,
    "pycharm": {
     "name": "#%% md\n"
    }
   }
  },
  {
   "cell_type": "code",
   "execution_count": 73,
   "outputs": [
    {
     "name": "stdout",
     "output_type": "stream",
     "text": [
      "The sum of matrices a, b and c = \n",
      "[[ 6.  6.  7.]\n",
      " [ 8. 10. 10.]]\n"
     ]
    }
   ],
   "source": [
    "print(f\"The sum of matrices a, b and c = \\n{d}\")"
   ],
   "metadata": {
    "collapsed": false,
    "pycharm": {
     "name": "#%%\n"
    }
   }
  },
  {
   "cell_type": "markdown",
   "source": [
    "c. Sum of the rows of 'a'\n",
    "d. Get the transpose of 'a'"
   ],
   "metadata": {
    "collapsed": false,
    "pycharm": {
     "name": "#%% md\n"
    }
   }
  },
  {
   "cell_type": "code",
   "execution_count": 74,
   "outputs": [],
   "source": [
    "a = np.array([[1,2,3,4,5],\n",
    "              [5,4,3,2,1],\n",
    "              [6,7,8,9,0],\n",
    "              [0,9,8,7,6]])"
   ],
   "metadata": {
    "collapsed": false,
    "pycharm": {
     "name": "#%%\n"
    }
   }
  },
  {
   "cell_type": "markdown",
   "source": [
    "print(f\"Sum of rows of A = \\n{np.sum(a, axis=0)} \\n\")\n",
    "\n",
    "print(f\"Transpose of a = \\n {a.T}\")"
   ],
   "metadata": {
    "collapsed": false,
    "pycharm": {
     "name": "#%% md\n"
    }
   }
  },
  {
   "cell_type": "code",
   "execution_count": 75,
   "outputs": [],
   "source": [
    "# Pandas"
   ],
   "metadata": {
    "collapsed": false,
    "pycharm": {
     "name": "#%%\n"
    }
   }
  },
  {
   "cell_type": "markdown",
   "source": [
    "a. Import pandas\n",
    "b. Read the file 'auto.csv'"
   ],
   "metadata": {
    "collapsed": false,
    "pycharm": {
     "name": "#%% md\n"
    }
   }
  },
  {
   "cell_type": "code",
   "execution_count": 76,
   "outputs": [],
   "source": [
    "df = pd.read_csv('auto.csv')"
   ],
   "metadata": {
    "collapsed": false,
    "pycharm": {
     "name": "#%%\n"
    }
   }
  },
  {
   "cell_type": "markdown",
   "source": [
    "c. Remove all rows with 'mpg' lower than 16"
   ],
   "metadata": {
    "collapsed": false,
    "pycharm": {
     "name": "#%% md\n"
    }
   }
  },
  {
   "cell_type": "code",
   "execution_count": 77,
   "outputs": [
    {
     "name": "stdout",
     "output_type": "stream",
     "text": [
      "0      18.0\n",
      "2      18.0\n",
      "3      16.0\n",
      "4      17.0\n",
      "14     24.0\n",
      "       ... \n",
      "393    27.0\n",
      "394    44.0\n",
      "395    32.0\n",
      "396    28.0\n",
      "397    31.0\n",
      "Name: mpg, Length: 324, dtype: float64\n"
     ]
    }
   ],
   "source": [
    "mpg_removed_lower_than_16 = df[df['mpg'] >=16]\n",
    "print(mpg_removed_lower_than_16.mpg)"
   ],
   "metadata": {
    "collapsed": false,
    "pycharm": {
     "name": "#%%\n"
    }
   }
  },
  {
   "cell_type": "markdown",
   "source": [
    "d. Get the first 7 rows of the columns 'weights' and 'acceleration'"
   ],
   "metadata": {
    "collapsed": false,
    "pycharm": {
     "name": "#%% md\n"
    }
   }
  },
  {
   "cell_type": "code",
   "execution_count": 78,
   "outputs": [
    {
     "name": "stdout",
     "output_type": "stream",
     "text": [
      "   weight  acceleration\n",
      "0    3504          12.0\n",
      "1    3693          11.5\n",
      "2    3436          11.0\n",
      "3    3433          12.0\n",
      "4    3449          10.5\n",
      "5    4341          10.0\n",
      "6    4354           9.0\n"
     ]
    }
   ],
   "source": [
    "first_7_rows_of_w_a_a = df[['weight', 'acceleration']][0:7]\n",
    "print(first_7_rows_of_w_a_a)"
   ],
   "metadata": {
    "collapsed": false,
    "pycharm": {
     "name": "#%%\n"
    }
   }
  },
  {
   "cell_type": "markdown",
   "source": [
    "e. Remove the rows in the ‘horsepower’ column that has the value ‘?’, andconvert the column to an ‘int’ type instead of a ‘string’"
   ],
   "metadata": {
    "collapsed": false,
    "pycharm": {
     "name": "#%% md\n"
    }
   }
  },
  {
   "cell_type": "code",
   "execution_count": 80,
   "outputs": [
    {
     "data": {
      "text/plain": "      mpg  cylinders  displacement horsepower  weight  acceleration  \\\n32   25.0          4          98.0          ?    2046          19.0   \n126  21.0          6         200.0          ?    2875          17.0   \n330  40.9          4          85.0          ?    1835          17.3   \n336  23.6          4         140.0          ?    2905          14.3   \n354  34.5          4         100.0          ?    2320          15.8   \n374  23.0          4         151.0          ?    3035          20.5   \n\n     model_year  origin                  name  \n32           71       1            ford pinto  \n126          74       1         ford maverick  \n330          80       2  renault lecar deluxe  \n336          80       1    ford mustang cobra  \n354          81       2           renault 18i  \n374          82       1        amc concord dl  ",
      "text/html": "<div>\n<style scoped>\n    .dataframe tbody tr th:only-of-type {\n        vertical-align: middle;\n    }\n\n    .dataframe tbody tr th {\n        vertical-align: top;\n    }\n\n    .dataframe thead th {\n        text-align: right;\n    }\n</style>\n<table border=\"1\" class=\"dataframe\">\n  <thead>\n    <tr style=\"text-align: right;\">\n      <th></th>\n      <th>mpg</th>\n      <th>cylinders</th>\n      <th>displacement</th>\n      <th>horsepower</th>\n      <th>weight</th>\n      <th>acceleration</th>\n      <th>model_year</th>\n      <th>origin</th>\n      <th>name</th>\n    </tr>\n  </thead>\n  <tbody>\n    <tr>\n      <th>32</th>\n      <td>25.0</td>\n      <td>4</td>\n      <td>98.0</td>\n      <td>?</td>\n      <td>2046</td>\n      <td>19.0</td>\n      <td>71</td>\n      <td>1</td>\n      <td>ford pinto</td>\n    </tr>\n    <tr>\n      <th>126</th>\n      <td>21.0</td>\n      <td>6</td>\n      <td>200.0</td>\n      <td>?</td>\n      <td>2875</td>\n      <td>17.0</td>\n      <td>74</td>\n      <td>1</td>\n      <td>ford maverick</td>\n    </tr>\n    <tr>\n      <th>330</th>\n      <td>40.9</td>\n      <td>4</td>\n      <td>85.0</td>\n      <td>?</td>\n      <td>1835</td>\n      <td>17.3</td>\n      <td>80</td>\n      <td>2</td>\n      <td>renault lecar deluxe</td>\n    </tr>\n    <tr>\n      <th>336</th>\n      <td>23.6</td>\n      <td>4</td>\n      <td>140.0</td>\n      <td>?</td>\n      <td>2905</td>\n      <td>14.3</td>\n      <td>80</td>\n      <td>1</td>\n      <td>ford mustang cobra</td>\n    </tr>\n    <tr>\n      <th>354</th>\n      <td>34.5</td>\n      <td>4</td>\n      <td>100.0</td>\n      <td>?</td>\n      <td>2320</td>\n      <td>15.8</td>\n      <td>81</td>\n      <td>2</td>\n      <td>renault 18i</td>\n    </tr>\n    <tr>\n      <th>374</th>\n      <td>23.0</td>\n      <td>4</td>\n      <td>151.0</td>\n      <td>?</td>\n      <td>3035</td>\n      <td>20.5</td>\n      <td>82</td>\n      <td>1</td>\n      <td>amc concord dl</td>\n    </tr>\n  </tbody>\n</table>\n</div>"
     },
     "execution_count": 80,
     "metadata": {},
     "output_type": "execute_result"
    }
   ],
   "source": [
    "df.loc[df['horsepower'] == '?']"
   ],
   "metadata": {
    "collapsed": false,
    "pycharm": {
     "name": "#%%\n"
    }
   }
  },
  {
   "cell_type": "code",
   "execution_count": 82,
   "outputs": [],
   "source": [
    "horsepower_removed_question_mark = df[df.horsepower != '?']"
   ],
   "metadata": {
    "collapsed": false,
    "pycharm": {
     "name": "#%%\n"
    }
   }
  },
  {
   "cell_type": "code",
   "source": [
    "horsepower_removed_question_mark.loc[horsepower_removed_question_mark['horsepower'] == '?']"
   ],
   "metadata": {
    "collapsed": false,
    "pycharm": {
     "name": "#%%\n"
    }
   },
   "execution_count": 84,
   "outputs": [
    {
     "data": {
      "text/plain": "Empty DataFrame\nColumns: [mpg, cylinders, displacement, horsepower, weight, acceleration, model_year, origin, name]\nIndex: []",
      "text/html": "<div>\n<style scoped>\n    .dataframe tbody tr th:only-of-type {\n        vertical-align: middle;\n    }\n\n    .dataframe tbody tr th {\n        vertical-align: top;\n    }\n\n    .dataframe thead th {\n        text-align: right;\n    }\n</style>\n<table border=\"1\" class=\"dataframe\">\n  <thead>\n    <tr style=\"text-align: right;\">\n      <th></th>\n      <th>mpg</th>\n      <th>cylinders</th>\n      <th>displacement</th>\n      <th>horsepower</th>\n      <th>weight</th>\n      <th>acceleration</th>\n      <th>model_year</th>\n      <th>origin</th>\n      <th>name</th>\n    </tr>\n  </thead>\n  <tbody>\n  </tbody>\n</table>\n</div>"
     },
     "execution_count": 84,
     "metadata": {},
     "output_type": "execute_result"
    }
   ]
  },
  {
   "cell_type": "markdown",
   "source": [
    "f. Calculate the averages of every column, except for ‘name’"
   ],
   "metadata": {
    "collapsed": false,
    "pycharm": {
     "name": "#%% md\n"
    }
   }
  },
  {
   "cell_type": "code",
   "execution_count": 86,
   "outputs": [],
   "source": [
    "mean_of_df = horsepower_removed_question_mark[['mpg', 'displacement', 'horsepower', 'weight', 'acceleration', 'model_year', 'origin']].mean()"
   ],
   "metadata": {
    "collapsed": false,
    "pycharm": {
     "name": "#%%\n"
    }
   }
  },
  {
   "cell_type": "code",
   "execution_count": 87,
   "outputs": [
    {
     "name": "stdout",
     "output_type": "stream",
     "text": [
      "mpg               23.445918\n",
      "displacement     194.411990\n",
      "horsepower              inf\n",
      "weight          2977.584184\n",
      "acceleration      15.541327\n",
      "model_year        75.979592\n",
      "origin             1.576531\n",
      "dtype: float64\n"
     ]
    }
   ],
   "source": [
    "print(mean_of_df)"
   ],
   "metadata": {
    "collapsed": false,
    "pycharm": {
     "name": "#%%\n"
    }
   }
  },
  {
   "cell_type": "markdown",
   "source": [
    "a. Import Matplotlib"
   ],
   "metadata": {
    "collapsed": false,
    "pycharm": {
     "name": "#%% md\n"
    }
   }
  },
  {
   "cell_type": "code",
   "execution_count": 88,
   "outputs": [],
   "source": [
    "a = np.array([1, 1, 2, 3, 5, 8, 13, 21, 34])\n",
    "b = np.array([1, 8, 28, 56, 70, 56, 28, 8, 1])"
   ],
   "metadata": {
    "collapsed": false,
    "pycharm": {
     "name": "#%%\n"
    }
   }
  },
  {
   "cell_type": "markdown",
   "source": [
    "b. Make a plot with two lines, using ‘a’ and ‘b’. Name the first axis‘epochs’ and the 2nd axis ‘accuracy’. Call the line made from ‘a’ for‘training accuracy’ and the line made from ‘b’ for ‘validation accuracy’.Title the plot ‘Training and validation accuracy’ and show the plot."
   ],
   "metadata": {
    "collapsed": false,
    "pycharm": {
     "name": "#%% md\n"
    }
   }
  },
  {
   "cell_type": "code",
   "execution_count": 89,
   "outputs": [
    {
     "data": {
      "text/plain": "<matplotlib.legend.Legend at 0x2a0830fbb50>"
     },
     "execution_count": 89,
     "metadata": {},
     "output_type": "execute_result"
    },
    {
     "data": {
      "text/plain": "<Figure size 720x576 with 1 Axes>",
      "image/png": "[encoded data removed]"
     },
     "metadata": {
      "needs_background": "light"
     },
     "output_type": "display_data"
    }
   ],
   "source": [
    "plt.figure(figsize=(10,8))\n",
    "plt.title(\"Training and validation accuracy\", fontsize=16)\n",
    "plt.plot(a, label=\"training accuracy\")\n",
    "plt.plot(b, label=\"validation accuracy\")\n",
    "plt.xlabel(\"epochs\", fontsize=14)\n",
    "plt.ylabel(\"accuracy\", fontsize=14)\n",
    "plt.legend()"
   ],
   "metadata": {
    "collapsed": false,
    "pycharm": {
     "name": "#%%\n"
    }
   }
  },
  {
   "cell_type": "code",
   "execution_count": null,
   "outputs": [],
   "source": [],
   "metadata": {
    "collapsed": false,
    "pycharm": {
     "name": "#%%\n"
    }
   }
  }
 ],
 "metadata": {
  "kernelspec": {
   "display_name": "Python 3",
   "language": "python",
   "name": "python3"
  },
  "language_info": {
   "codemirror_mode": {
    "name": "ipython",
    "version": 2
   },
   "file_extension": ".py",
   "mimetype": "text/x-python",
   "name": "python",
   "nbconvert_exporter": "python",
   "pygments_lexer": "ipython2",
   "version": "2.7.6"
  }
 },
 "nbformat": 4,
 "nbformat_minor": 0
}