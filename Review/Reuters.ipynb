{
 "cells": [
  {
   "cell_type": "code",
   "execution_count": 28,
   "outputs": [],
   "source": [
    "from keras.datasets import reuters"
   ],
   "metadata": {
    "collapsed": false,
    "pycharm": {
     "name": "#%%\n"
    }
   }
  },
  {
   "cell_type": "code",
   "execution_count": 29,
   "outputs": [],
   "source": [
    "(train_data, train_labels), (test_data, test_labels) = reuters.load_data(num_words=10000)"
   ],
   "metadata": {
    "collapsed": false,
    "pycharm": {
     "name": "#%%\n"
    }
   }
  },
  {
   "cell_type": "code",
   "execution_count": 30,
   "outputs": [
    {
     "data": {
      "text/plain": "(8982,)"
     },
     "execution_count": 30,
     "metadata": {},
     "output_type": "execute_result"
    }
   ],
   "source": [
    "train_data.shape"
   ],
   "metadata": {
    "collapsed": false,
    "pycharm": {
     "name": "#%%\n"
    }
   }
  },
  {
   "cell_type": "code",
   "execution_count": 31,
   "outputs": [
    {
     "name": "stdout",
     "output_type": "stream",
     "text": [
      "Downloading data from https://storage.googleapis.com/tensorflow/tf-keras-datasets/reuters_word_index.json\n",
      "550378/550378 [==============================] - 0s 0us/step\n"
     ]
    },
    {
     "data": {
      "text/plain": "'? period ended december 31 shr profit 11 cts vs loss 24 cts net profit 224 271 vs loss 511 349 revs 7 258 688 vs 7 200 349 reuter 3'"
     },
     "execution_count": 31,
     "metadata": {},
     "output_type": "execute_result"
    }
   ],
   "source": [
    "word_index = reuters.get_word_index()\n",
    "reverse_word_index = dict([(value, key) for (key, value) in word_index.items()])\n",
    "\n",
    "def decode_text(text):\n",
    "    # Offset by 3 because 0, 1, and 2 are reserved for padding, start, and unknown\n",
    "    return ' '.join([reverse_word_index.get(i - 3, '?') for i in text])\n",
    "\n",
    "decode_text(train_data[10])"
   ],
   "metadata": {
    "collapsed": false,
    "pycharm": {
     "name": "#%%\n"
    }
   }
  },
  {
   "cell_type": "markdown",
   "source": [
    "Preparing the data"
   ],
   "metadata": {
    "collapsed": false,
    "pycharm": {
     "name": "#%% md\n"
    }
   }
  },
  {
   "cell_type": "code",
   "execution_count": 32,
   "outputs": [],
   "source": [
    "import numpy as np\n",
    "\n",
    "def vectorize_sequences(sequences, dimention=10000):\n",
    "    results = np.zeros((len(sequences), dimention))\n",
    "    for i, sequence in enumerate(sequences):\n",
    "        results[i, sequence] = 1\n",
    "    return results"
   ],
   "metadata": {
    "collapsed": false,
    "pycharm": {
     "name": "#%%\n"
    }
   }
  },
  {
   "cell_type": "code",
   "execution_count": 33,
   "outputs": [],
   "source": [
    "X_train = vectorize_sequences(train_data)\n",
    "X_test = vectorize_sequences(test_data)"
   ],
   "metadata": {
    "collapsed": false,
    "pycharm": {
     "name": "#%%\n"
    }
   }
  },
  {
   "cell_type": "code",
   "execution_count": 34,
   "outputs": [],
   "source": [
    "def to_one_hot(labels, dimention=46):\n",
    "    results = np.zeros((len(labels), dimention))\n",
    "    for i, l in enumerate(labels):\n",
    "        results[i, l] = 1\n",
    "    return results"
   ],
   "metadata": {
    "collapsed": false,
    "pycharm": {
     "name": "#%%\n"
    }
   }
  },
  {
   "cell_type": "code",
   "execution_count": 35,
   "outputs": [],
   "source": [
    "one_hot_train_labels = to_one_hot(train_labels)\n",
    "one_hot_test_labels = to_one_hot(test_labels)"
   ],
   "metadata": {
    "collapsed": false,
    "pycharm": {
     "name": "#%%\n"
    }
   }
  },
  {
   "cell_type": "code",
   "execution_count": 36,
   "outputs": [],
   "source": [
    "from keras import utils\n",
    "\n",
    "one_hot_train_labels = utils.to_categorical(train_labels)\n",
    "one_hot_test_labels = utils.to_categorical(test_labels)"
   ],
   "metadata": {
    "collapsed": false,
    "pycharm": {
     "name": "#%%\n"
    }
   }
  },
  {
   "cell_type": "markdown",
   "source": [
    "Build the model"
   ],
   "metadata": {
    "collapsed": false,
    "pycharm": {
     "name": "#%% md\n"
    }
   }
  },
  {
   "cell_type": "code",
   "execution_count": 37,
   "outputs": [],
   "source": [
    "from keras import models\n",
    "from keras import layers\n",
    "\n",
    "model = models.Sequential([\n",
    "    layers.Dense(64, activation=\"relu\", input_shape=(10000, )),\n",
    "    layers.Dense(64, activation=\"relu\"),\n",
    "    layers.Dense(46, activation=\"softmax\")\n",
    "])\n",
    "\n",
    "model.compile(optimizer=\"rmsprop\",\n",
    "              loss=\"categorical_crossentropy\",\n",
    "              metrics=[\"accuracy\"])"
   ],
   "metadata": {
    "collapsed": false,
    "pycharm": {
     "name": "#%%\n"
    }
   }
  },
  {
   "cell_type": "markdown",
   "source": [
    "Validate the model"
   ],
   "metadata": {
    "collapsed": false,
    "pycharm": {
     "name": "#%% md\n"
    }
   }
  },
  {
   "cell_type": "code",
   "execution_count": 38,
   "outputs": [],
   "source": [
    "X_val = X_train[:1000]\n",
    "partial_X_train = X_train[1000:]\n",
    "\n",
    "y_val = one_hot_train_labels[:1000]\n",
    "partial_y_train = one_hot_train_labels[1000:]"
   ],
   "metadata": {
    "collapsed": false,
    "pycharm": {
     "name": "#%%\n"
    }
   }
  },
  {
   "cell_type": "code",
   "execution_count": 39,
   "outputs": [
    {
     "name": "stdout",
     "output_type": "stream",
     "text": [
      "Epoch 1/20\n",
      "16/16 [==============================] - 3s 91ms/step - loss: 2.6654 - accuracy: 0.5331 - val_loss: 1.7692 - val_accuracy: 0.6450\n",
      "Epoch 2/20\n",
      "16/16 [==============================] - 1s 56ms/step - loss: 1.4549 - accuracy: 0.7052 - val_loss: 1.3132 - val_accuracy: 0.7170\n",
      "Epoch 3/20\n",
      "16/16 [==============================] - 1s 49ms/step - loss: 1.0565 - accuracy: 0.7805 - val_loss: 1.1351 - val_accuracy: 0.7580\n",
      "Epoch 4/20\n",
      "16/16 [==============================] - 1s 44ms/step - loss: 0.8227 - accuracy: 0.8272 - val_loss: 1.0477 - val_accuracy: 0.7790\n",
      "Epoch 5/20\n",
      "16/16 [==============================] - 1s 45ms/step - loss: 0.6496 - accuracy: 0.8634 - val_loss: 0.9813 - val_accuracy: 0.7960\n",
      "Epoch 6/20\n",
      "16/16 [==============================] - 1s 55ms/step - loss: 0.5224 - accuracy: 0.8939 - val_loss: 0.9391 - val_accuracy: 0.8060\n",
      "Epoch 7/20\n",
      "16/16 [==============================] - 1s 51ms/step - loss: 0.4170 - accuracy: 0.9124 - val_loss: 0.9222 - val_accuracy: 0.8070\n",
      "Epoch 8/20\n",
      "16/16 [==============================] - 1s 51ms/step - loss: 0.3448 - accuracy: 0.9280 - val_loss: 0.9055 - val_accuracy: 0.8190\n",
      "Epoch 9/20\n",
      "16/16 [==============================] - 1s 51ms/step - loss: 0.2844 - accuracy: 0.9400 - val_loss: 0.9011 - val_accuracy: 0.8210\n",
      "Epoch 10/20\n",
      "16/16 [==============================] - 1s 48ms/step - loss: 0.2396 - accuracy: 0.9456 - val_loss: 0.9885 - val_accuracy: 0.8000\n",
      "Epoch 11/20\n",
      "16/16 [==============================] - 1s 50ms/step - loss: 0.2069 - accuracy: 0.9499 - val_loss: 0.9228 - val_accuracy: 0.8190\n",
      "Epoch 12/20\n",
      "16/16 [==============================] - 1s 45ms/step - loss: 0.1849 - accuracy: 0.9505 - val_loss: 0.9942 - val_accuracy: 0.8030\n",
      "Epoch 13/20\n",
      "16/16 [==============================] - 1s 50ms/step - loss: 0.1677 - accuracy: 0.9541 - val_loss: 0.9659 - val_accuracy: 0.8080\n",
      "Epoch 14/20\n",
      "16/16 [==============================] - 1s 47ms/step - loss: 0.1527 - accuracy: 0.9533 - val_loss: 0.9995 - val_accuracy: 0.8030\n",
      "Epoch 15/20\n",
      "16/16 [==============================] - 1s 50ms/step - loss: 0.1437 - accuracy: 0.9554 - val_loss: 0.9947 - val_accuracy: 0.8090\n",
      "Epoch 16/20\n",
      "16/16 [==============================] - 1s 50ms/step - loss: 0.1303 - accuracy: 0.9582 - val_loss: 1.1224 - val_accuracy: 0.7910\n",
      "Epoch 17/20\n",
      "16/16 [==============================] - 1s 45ms/step - loss: 0.1278 - accuracy: 0.9563 - val_loss: 1.0984 - val_accuracy: 0.7850\n",
      "Epoch 18/20\n",
      "16/16 [==============================] - 1s 43ms/step - loss: 0.1210 - accuracy: 0.9562 - val_loss: 1.0503 - val_accuracy: 0.8090\n",
      "Epoch 19/20\n",
      "16/16 [==============================] - 1s 47ms/step - loss: 0.1200 - accuracy: 0.9569 - val_loss: 1.0705 - val_accuracy: 0.8010\n",
      "Epoch 20/20\n",
      "16/16 [==============================] - 1s 46ms/step - loss: 0.1094 - accuracy: 0.9599 - val_loss: 1.1197 - val_accuracy: 0.8050\n"
     ]
    }
   ],
   "source": [
    "history = model.fit(partial_X_train,\n",
    "                    partial_y_train,\n",
    "                    epochs=20,\n",
    "                    batch_size=512,\n",
    "                    validation_data=(X_val, y_val))"
   ],
   "metadata": {
    "collapsed": false,
    "pycharm": {
     "name": "#%%\n"
    }
   }
  },
  {
   "cell_type": "code",
   "execution_count": 40,
   "outputs": [
    {
     "data": {
      "text/plain": "dict_keys(['loss', 'accuracy', 'val_loss', 'val_accuracy'])"
     },
     "execution_count": 40,
     "metadata": {},
     "output_type": "execute_result"
    }
   ],
   "source": [
    "history_dict = history.history\n",
    "history_dict.keys()"
   ],
   "metadata": {
    "collapsed": false,
    "pycharm": {
     "name": "#%%\n"
    }
   }
  },
  {
   "cell_type": "code",
   "execution_count": 41,
   "outputs": [
    {
     "data": {
      "text/plain": "<Figure size 432x288 with 1 Axes>",
      "image/png": "[encoded data removed]"
     },
     "metadata": {
      "needs_background": "light"
     },
     "output_type": "display_data"
    }
   ],
   "source": [
    "import matplotlib.pyplot as plt\n",
    "%matplotlib inline\n",
    "\n",
    "loss_values = history_dict[\"loss\"]\n",
    "val_loss_values = history_dict['val_loss']\n",
    "\n",
    "epochs = np.arange(1, 21, 1)\n",
    "\n",
    "plt.plot(epochs, loss_values, 'bo', label='Training losses')\n",
    "plt.plot(epochs, val_loss_values, 'b', label='Validation losses')\n",
    "plt.title('Training and validation loss')\n",
    "plt.xlabel('Epochs')\n",
    "plt.ylabel('Loss')\n",
    "plt.legend()\n",
    "\n",
    "plt.show()"
   ],
   "metadata": {
    "collapsed": false,
    "pycharm": {
     "name": "#%%\n"
    }
   }
  },
  {
   "cell_type": "code",
   "execution_count": 46,
   "outputs": [
    {
     "data": {
      "text/plain": "{'loss': [2.6654012203216553,\n  1.4549065828323364,\n  1.0565136671066284,\n  0.8227218389511108,\n  0.6495909690856934,\n  0.5223719477653503,\n  0.4170351028442383,\n  0.34484967589378357,\n  0.2843613624572754,\n  0.23963087797164917,\n  0.20687267184257507,\n  0.18491479754447937,\n  0.1677272915840149,\n  0.1527101993560791,\n  0.1437409222126007,\n  0.1303461492061615,\n  0.12777243554592133,\n  0.12100819498300552,\n  0.11995381861925125,\n  0.10937800258398056],\n 'accuracy': [0.5330744385719299,\n  0.7052116990089417,\n  0.7805061340332031,\n  0.8272362947463989,\n  0.8634427189826965,\n  0.8938862681388855,\n  0.9124279618263245,\n  0.9279628992080688,\n  0.9399899840354919,\n  0.9456276893615723,\n  0.9498872756958008,\n  0.9505136609077454,\n  0.9541468024253845,\n  0.9532698392868042,\n  0.9553996324539185,\n  0.9581558704376221,\n  0.9562765955924988,\n  0.9561513662338257,\n  0.9569030404090881,\n  0.9599097967147827],\n 'val_loss': [1.7692245244979858,\n  1.313234806060791,\n  1.1351487636566162,\n  1.047662377357483,\n  0.9813356995582581,\n  0.9390643835067749,\n  0.9222074747085571,\n  0.905536413192749,\n  0.9011220335960388,\n  0.9884526133537292,\n  0.9227721691131592,\n  0.994193971157074,\n  0.9658887982368469,\n  0.9994592070579529,\n  0.9946703314781189,\n  1.1224067211151123,\n  1.0984164476394653,\n  1.0502675771713257,\n  1.0704865455627441,\n  1.119685411453247],\n 'val_accuracy': [0.6449999809265137,\n  0.7170000076293945,\n  0.7580000162124634,\n  0.7789999842643738,\n  0.7960000038146973,\n  0.8059999942779541,\n  0.8069999814033508,\n  0.8190000057220459,\n  0.8209999799728394,\n  0.800000011920929,\n  0.8190000057220459,\n  0.8029999732971191,\n  0.8080000281333923,\n  0.8029999732971191,\n  0.8090000152587891,\n  0.7910000085830688,\n  0.7850000262260437,\n  0.8090000152587891,\n  0.8009999990463257,\n  0.8050000071525574]}"
     },
     "execution_count": 46,
     "metadata": {},
     "output_type": "execute_result"
    }
   ],
   "source": [
    "history_dict"
   ],
   "metadata": {
    "collapsed": false,
    "pycharm": {
     "name": "#%%\n"
    }
   }
  },
  {
   "cell_type": "code",
   "execution_count": 48,
   "outputs": [
    {
     "data": {
      "text/plain": "<Figure size 432x288 with 1 Axes>",
      "image/png": "[encoded data removed]"
     },
     "metadata": {
      "needs_background": "light"
     },
     "output_type": "display_data"
    }
   ],
   "source": [
    "acc_values = history_dict['accuracy']\n",
    "val_acc_values = history_dict['val_accuracy']\n",
    "\n",
    "plt.plot(epochs, acc_values, 'bo', label='Training acc')\n",
    "plt.plot(epochs, val_acc_values, 'b', label='Validation acc')\n",
    "plt.title('Training and validation acc')\n",
    "plt.xlabel('Epochs')\n",
    "plt.ylabel('Accuracy')\n",
    "plt.legend()\n",
    "\n",
    "plt.show()"
   ],
   "metadata": {
    "collapsed": false,
    "pycharm": {
     "name": "#%%\n"
    }
   }
  },
  {
   "cell_type": "code",
   "execution_count": null,
   "outputs": [],
   "source": [],
   "metadata": {
    "collapsed": false,
    "pycharm": {
     "name": "#%%\n"
    }
   }
  }
 ],
 "metadata": {
  "kernelspec": {
   "display_name": "Python 3",
   "language": "python",
   "name": "python3"
  },
  "language_info": {
   "codemirror_mode": {
    "name": "ipython",
    "version": 2
   },
   "file_extension": ".py",
   "mimetype": "text/x-python",
   "name": "python",
   "nbconvert_exporter": "python",
   "pygments_lexer": "ipython2",
   "version": "2.7.6"
  }
 },
 "nbformat": 4,
 "nbformat_minor": 0
}